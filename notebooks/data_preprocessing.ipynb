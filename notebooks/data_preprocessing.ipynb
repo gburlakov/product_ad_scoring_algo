{
 "cells": [
  {
   "cell_type": "code",
   "execution_count": 8,
   "id": "f330e36d",
   "metadata": {},
   "outputs": [],
   "source": [
    "import pandas as pd"
   ]
  },
  {
   "cell_type": "code",
   "execution_count": 9,
   "id": "ca13e435",
   "metadata": {},
   "outputs": [],
   "source": [
    "from config import date_column"
   ]
  },
  {
   "cell_type": "code",
   "execution_count": 4,
   "id": "c1eaebac",
   "metadata": {},
   "outputs": [],
   "source": [
    "def convert_text_to_datetime(df, date_column):\n",
    "    \"\"\"\n",
    "    This function converts date column of a dataframe from text to datetime datatype\n",
    "    \n",
    "    Args:\n",
    "        df (pd.DataFrame): input dataframe with datecolumn\n",
    "        date_column (str): name of the date column\n",
    "    \"\"\"\n",
    "    df[date_column] = pd.to_datetime(df[date_column])\n",
    "    \n",
    "    return df"
   ]
  },
  {
   "cell_type": "code",
   "execution_count": 5,
   "id": "587c74c2",
   "metadata": {},
   "outputs": [],
   "source": [
    "def impute_missing(df):\n",
    "    \"\"\"\n",
    "    This function imputes mean in numeric columns and mode in the rest if missing values are detected\n",
    "    \n",
    "    Args:\n",
    "       df (pd.DataFrame): input dataframe to be checked for missing values\n",
    "    \"\"\"\n",
    "    for col in df.columns:\n",
    "        if df[col].isnull().any():\n",
    "            if pd.api.types.is_numeric_dtype(df[col]):\n",
    "                df[col] = df[col].fillna(df[col].mean())\n",
    "            else:\n",
    "                df[col] = df[col].fillna(df[col].mode()[0])\n",
    "    \n",
    "    return df"
   ]
  },
  {
   "cell_type": "code",
   "execution_count": 6,
   "id": "e40b631b",
   "metadata": {},
   "outputs": [],
   "source": [
    "def preprocess_data(df, date_column):\n",
    "    \"\"\"\n",
    "    This function runs data cleaning and formatting methods\n",
    "    \n",
    "    Args:\n",
    "       df (pd.DataFrame): input dataframe to be cleaned and reformatted\n",
    "       date_column (str): name of the date column\n",
    "    \"\"\"\n",
    "    df = convert_text_to_datetime(df, date_column)\n",
    "    \n",
    "    return impute_missing(df)"
   ]
  }
 ],
 "metadata": {
  "kernelspec": {
   "display_name": "ad-score",
   "language": "python",
   "name": "ad-score-env"
  },
  "language_info": {
   "codemirror_mode": {
    "name": "ipython",
    "version": 3
   },
   "file_extension": ".py",
   "mimetype": "text/x-python",
   "name": "python",
   "nbconvert_exporter": "python",
   "pygments_lexer": "ipython3",
   "version": "3.10.18"
  }
 },
 "nbformat": 4,
 "nbformat_minor": 5
}
