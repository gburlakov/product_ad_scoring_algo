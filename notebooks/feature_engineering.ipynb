{
 "cells": [
  {
   "cell_type": "code",
   "execution_count": 1,
   "id": "cf1a0aba",
   "metadata": {},
   "outputs": [],
   "source": [
    "import pandas as pd\n",
    "import numpy as np"
   ]
  },
  {
   "cell_type": "code",
   "execution_count": 2,
   "id": "d75d80fa",
   "metadata": {},
   "outputs": [],
   "source": [
    "from config import date_column, date_prefix_list, ad_platform_list"
   ]
  },
  {
   "cell_type": "code",
   "execution_count": null,
   "id": "83d56bcf",
   "metadata": {},
   "outputs": [],
   "source": [
    "def encode_date(df, date_column, date_prefix_list):\n",
    "    \"\"\"\n",
    "    df (pd.DataFrame): dataframe with date column to be encoded\n",
    "    date_column (str): date column name\n",
    "    prefix_list (str): list of prefixes of date dummies\n",
    "    \"\"\"\n",
    "    df['year'] = df[date_column].dt.year\n",
    "    df['month'] = df[date_column].dt.month\n",
    "    df['week'] = df[date_column].dt.isocalendar().week.astype(int)\n",
    "    df['weekday'] = df[date_column].dt.weekday\n",
    "    \n",
    "    return pd.get_dummies(df, columns=['year', 'month', 'week', 'weekday'], prefix=date_prefix_list)"
   ]
  },
  {
   "cell_type": "code",
   "execution_count": 3,
   "id": "c506d581",
   "metadata": {},
   "outputs": [],
   "source": [
    "def compute_discount(df):\n",
    "    \"\"\"\n",
    "    This function derives the discount rate column from the price and sale price columns\n",
    "    \n",
    "    Args:\n",
    "        df (pd.DataFrame): input dataframe with price columns\n",
    "    \"\"\"\n",
    "    df['discount_rate'] = (df['price'] - df['sale_price']) / df['price']\n",
    "    df['discount_rate'] = df['discount_rate'].fillna(0)\n",
    "    \n",
    "    return df"
   ]
  },
  {
   "cell_type": "code",
   "execution_count": 4,
   "id": "b8fbf0c7",
   "metadata": {},
   "outputs": [],
   "source": [
    "def compute_target_metrics(df, ad_platform):\n",
    "    \"\"\"\n",
    "    This function derives the target metrics from online perfomance columns by ad platform\n",
    "    \n",
    "    Args:\n",
    "        df (pd.DataFrame): input dataframe with online perfomance columns\n",
    "        ad_platform (str): ad platform, meta and google\n",
    "    \"\"\"\n",
    "    df[f'{ad_platform}_impressions_per_spend'] = (df[f'{ad_platform}_impressions'] / (df[f'{ad_platform}_spend'])).fillna(0)\n",
    "    \n",
    "    df[f'{ad_platform}_clickthrough'] = (df[f'{ad_platform}_clicks'] / df[f'{ad_platform}_impressions']).fillna(0)\n",
    "    df[f'{ad_platform}_clickthrough_per_spend'] = (df[f'{ad_platform}_clickthrough'] / (df[f'{ad_platform}_spend'])).fillna(0)\n",
    "    \n",
    "    df[f'{ad_platform}_conversion'] = (df[f'{ad_platform}_item_quantity_sold'] / df[f'{ad_platform}_impressions']).fillna(0)\n",
    "    df[f'{ad_platform}_conversion_per_spend'] = (df[f'{ad_platform}_conversion'] / (df[f'{ad_platform}_spend'])).fillna(0)\n",
    "    \n",
    "    df[f'{ad_platform}_roi'] = (df[f'{ad_platform}_product_revenue'] - df[f'{ad_platform}_spend']) / (df[f'{ad_platform}_spend'] + 1e-9)\n",
    "    df[f'{ad_platform}_roi'] = df[f'{ad_platform}_roi'].replace([np.inf, -np.inf], 0)\n",
    "\n",
    "    df[f'all_{ad_platform}_roi'] = (df['all_product_revenue'] - df[f'{ad_platform}_spend']) / (df[f'{ad_platform}_spend'] + 1e-9)\n",
    "    df[f'all_{ad_platform}_roi'] = df[f'all_{ad_platform}_roi'].replace([np.inf, -np.inf], 0)    \n",
    "    \n",
    "    return df"
   ]
  },
  {
   "cell_type": "code",
   "execution_count": 5,
   "id": "98ccb681",
   "metadata": {},
   "outputs": [],
   "source": [
    "# def compute_interaction_features(df, ad_platform):\n",
    "#     \"\"\"\n",
    "#     This function derives interactive metrics fom views, impressions, revenue and sale volume values\n",
    "    \n",
    "#     Args:\n",
    "#        df (pd.DataFrame): input dataframe with views, impressions, revenue, spend and sale volume columns\n",
    "#        ad_platform (str): ad platform, meta and google\n",
    "#     \"\"\"\n",
    "#     df[f'{ad_platform}_views_per_impression'] = (df[f'{ad_platform}_product_detail_views'] / (df[f'{ad_platform}_impressions'] + 1e-9)).fillna(0)\n",
    "#     df[f'{ad_platform}_clicks_per_impression'] = (df[f'{ad_platform}_clicks'] / (df[f'{ad_platform}_impressions'] + 1e-9)).fillna(0)\n",
    "#     df[f'{ad_platform}_revenue_per_click'] = (df[f'{ad_platform}_product_revenue'] / (df[f'{ad_platform}_clicks'] + 1e-9)).fillna(0)\n",
    "#     df[f'{ad_platform}_qty_per_click'] = (df[f'{ad_platform}_quantity_added_to_cart'] / (df[f'{ad_platform}_clicks'] + 1e-9)).fillna(0)\n",
    "#     df[f'{ad_platform}_roi_per_view'] = (df[f'{ad_platform}_product_revenue'] - df[f'{ad_platform}_spend']) / (df[f'{ad_platform}_product_detail_views'] + 1e-9)\n",
    "    \n",
    "#     df = df.replace([np.inf, -np.inf], 0).fillna(0)\n",
    "    \n",
    "#     return df"
   ]
  },
  {
   "cell_type": "code",
   "execution_count": 6,
   "id": "93d476b8",
   "metadata": {},
   "outputs": [],
   "source": [
    "def engineer_features(df, date_column, date_prefix_list, ad_platform_list):\n",
    "    \"\"\"\n",
    "    This function runs feature engineering methods\n",
    "    \n",
    "    Args:\n",
    "       df (pd.DataFrame): input dataframe to be extened with derived features\n",
    "       date_column (str): date column name\n",
    "       prefix_list (str): list of prefixes of date dummies\n",
    "       ad_platform (str): ad platform, meta and google\n",
    "    \"\"\"\n",
    "    df = encode_date(df, date_column, date_prefix_list)\n",
    "    df = compute_discount(df)\n",
    "\n",
    "    for ad_platform in ad_platform_list:\n",
    "        compute_target_metrics(df, ad_platform)\n",
    "    \n",
    "    return df"
   ]
  }
 ],
 "metadata": {
  "kernelspec": {
   "display_name": "ad-score",
   "language": "python",
   "name": "ad-score-env"
  },
  "language_info": {
   "codemirror_mode": {
    "name": "ipython",
    "version": 3
   },
   "file_extension": ".py",
   "mimetype": "text/x-python",
   "name": "python",
   "nbconvert_exporter": "python",
   "pygments_lexer": "ipython3",
   "version": "3.10.18"
  }
 },
 "nbformat": 4,
 "nbformat_minor": 5
}
