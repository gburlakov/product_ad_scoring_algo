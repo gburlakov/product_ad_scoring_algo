{
 "cells": [
  {
   "cell_type": "code",
   "execution_count": 12,
   "id": "854e0574",
   "metadata": {},
   "outputs": [],
   "source": [
    "import os\n",
    "import pandas as pd"
   ]
  },
  {
   "cell_type": "code",
   "execution_count": 13,
   "id": "7fb579a5",
   "metadata": {},
   "outputs": [],
   "source": [
    "from sklearn.ensemble import GradientBoostingRegressor, RandomForestRegressor, HistGradientBoostingRegressor, \\\n",
    "ExtraTreesRegressor, AdaBoostRegressor\n",
    "from sklearn.linear_model import LinearRegression\n",
    "from sklearn.tree import DecisionTreeRegressor\n",
    "from sklearn.neighbors import KNeighborsRegressor\n",
    "from sklearn.svm import SVR"
   ]
  },
  {
   "cell_type": "code",
   "execution_count": 14,
   "id": "aea96113",
   "metadata": {},
   "outputs": [],
   "source": [
    "cwd=os.getcwd()\n",
    "cwd = os.path.dirname(cwd)"
   ]
  },
  {
   "cell_type": "code",
   "execution_count": 15,
   "id": "89b1fa93",
   "metadata": {},
   "outputs": [],
   "source": [
    "data_folderpath = cwd + '\\data'\n",
    "\n",
    "input_data_folderpath = data_folderpath + '\\input'\n",
    "\n",
    "xlsx_filename = 'data_scientist_product_data.xlsx'\n",
    "csv_filename = xlsx_filename[:-4] + '.csv'\n",
    "\n",
    "input_data_xlsx_filepath = input_data_folderpath + '\\\\' + xlsx_filename\n",
    "input_data_csv_filepath = input_data_folderpath + '\\\\' + csv_filename\n",
    "\n",
    "meta_data_folderpath = data_folderpath + '\\\\meta\\\\'\n",
    "trained_models_folderpath = meta_data_folderpath + 'trained_models\\\\'\n",
    "\n",
    "output_data_folderpath = data_folderpath + '\\\\output\\\\'\n",
    "predictions_folderpath = output_data_folderpath + '\\\\predictions\\\\'\n",
    "\n",
    "all_pred_csv_filename = 'all_pred.csv'\n",
    "all_predictions_csv_filepath = predictions_folderpath + '\\\\' + all_pred_csv_filename\n",
    "\n",
    "all_validation_metrics_filename = 'all_validation_metrics.csv'\n",
    "all_validation_metrics_filepath = predictions_folderpath + '//' + all_validation_metrics_filename\n",
    "\n",
    "scoring_folderpath = output_data_folderpath + '\\\\ranking\\\\'\n",
    "\n",
    "all_ranked_products_filename = 'all_ranked_products.csv'\n",
    "all_ranked_products_filepath = scoring_folderpath + '\\\\' + all_ranked_products_filename\n",
    "\n",
    "ABtest_folderpath = output_data_folderpath + '\\\\ABtesting\\\\'\n",
    "\n",
    "all_actual_products_selected_filename = 'all_actual_products_selected.csv'\n",
    "all_actual_products_selected_filepath = ABtest_folderpath + all_actual_products_selected_filename\n",
    "\n",
    "all_pred_products_selected_filename = 'all_pred_products_selected.csv'\n",
    "all_pred_products_selected_filepath = ABtest_folderpath + all_pred_products_selected_filename \n",
    "\n",
    "all_ab_test_results_filename = 'all_ab_test_results.csv'\n",
    "all_ab_test_results_filepath = ABtest_folderpath + all_ab_test_results_filename"
   ]
  },
  {
   "cell_type": "code",
   "execution_count": 16,
   "id": "481fb118",
   "metadata": {},
   "outputs": [
    {
     "data": {
      "text/plain": [
       "'C:\\\\Users\\\\Georgi\\\\2025ML_projects\\\\ROI_Hunter\\\\product_ad_scoring_algo\\\\data\\\\input\\\\data_scientist_product_data.xlsx'"
      ]
     },
     "execution_count": 16,
     "metadata": {},
     "output_type": "execute_result"
    }
   ],
   "source": [
    "input_data_xlsx_filepath"
   ]
  },
  {
   "cell_type": "code",
   "execution_count": 5,
   "id": "045ad992",
   "metadata": {},
   "outputs": [],
   "source": [
    "date_column = 'date'\n",
    "date_prefix_list = ['yr', 'm', 'w', 'wd']"
   ]
  },
  {
   "cell_type": "code",
   "execution_count": 6,
   "id": "77a95fad",
   "metadata": {},
   "outputs": [],
   "source": [
    "ad_platform_list = ['meta', 'google']"
   ]
  },
  {
   "cell_type": "code",
   "execution_count": 7,
   "id": "61ea2c61",
   "metadata": {},
   "outputs": [],
   "source": [
    "train_size = 0.7\n",
    "test_size = 0.15\n",
    "val_size = 0.15"
   ]
  },
  {
   "cell_type": "code",
   "execution_count": null,
   "id": "a6f25b12",
   "metadata": {},
   "outputs": [],
   "source": [
    "target_dict = {ad_platform: [\n",
    "    f'{ad_platform}_roi'\n",
    "] for ad_platform in ad_platform_list}"
   ]
  },
  {
   "cell_type": "code",
   "execution_count": null,
   "id": "23d6ff54",
   "metadata": {},
   "outputs": [],
   "source": [
    "# target_dict = {ad_platform: [\n",
    "#     f'{ad_platform}_impressions_per_spend',\n",
    "#     f'{ad_platform}_clickthrough_per_spend',\n",
    "#     f'{ad_platform}_conversion_per_spend',\n",
    "#     f'{ad_platform}_roi',\n",
    "#     f'all_{ad_platform}_roi'\n",
    "# ] for ad_platform in ad_platform_list}"
   ]
  },
  {
   "cell_type": "code",
   "execution_count": 9,
   "id": "67c5eb3a",
   "metadata": {},
   "outputs": [],
   "source": [
    "feature_list = [\n",
    "    'category',\n",
    "    'sale_price',\n",
    "    'discount_rate',\n",
    "    'product_age',\n",
    "    'product_status',\n",
    "    'pct_product_variants_in_stock',\n",
    "]"
   ]
  },
  {
   "cell_type": "code",
   "execution_count": 18,
   "id": "8afb9273",
   "metadata": {},
   "outputs": [],
   "source": [
    "model_dict = {\n",
    "    'LinearRegression': (LinearRegression(), {}),\n",
    "    'DecisionTree': (DecisionTreeRegressor(), {'max_depth': [None, 5, 10]}),\n",
    "    'KNeighbors': (KNeighborsRegressor(), {'n_neighbors': [3, 5, 7]})\n",
    "}"
   ]
  },
  {
   "cell_type": "code",
   "execution_count": 8,
   "id": "93c93236",
   "metadata": {},
   "outputs": [],
   "source": [
    "# MODELS = {\n",
    "#     'GradientBoosting': (GradientBoostingRegressor(), {'n_estimators': [100, 200, 300], 'learning_rate': [0.01, 0.05, 0.1], 'max_depth': [3, 5, 7]}),\n",
    "#     'RandomForest': (RandomForestRegressor(), {'n_estimators': [100, 200, 300], 'max_depth': [None, 5, 10], 'min_samples_split': [2, 5, 10]}),\n",
    "#     'HistGradientBoosting': (HistGradientBoostingRegressor(), {'learning_rate': [0.01, 0.05, 0.1], 'max_iter': [100, 200, 300], 'max_depth': [None, 3, 5]}),\n",
    "#     'ExtraTrees': (ExtraTreesRegressor(), {'n_estimators': [100, 200, 300], 'max_depth': [None, 5, 10], 'min_samples_split': [2, 5, 10]}),\n",
    "#     'AdaBoost': (AdaBoostRegressor(), {'n_estimators': [50, 100, 200], 'learning_rate': [0.01, 0.05, 0.1]}),\n",
    "#     'LinearRegression': (LinearRegression(), {}),\n",
    "#     'DecisionTree': (DecisionTreeRegressor(), {'max_depth': [None, 5, 10]}),\n",
    "#     'KNeighbors': (KNeighborsRegressor(), {'n_neighbors': [3, 5, 7]}),\n",
    "#     'SVR': (SVR(), {'C': [0.1, 1, 10], 'kernel': ['linear', 'rbf']})\n",
    "# }"
   ]
  },
  {
   "cell_type": "code",
   "execution_count": 10,
   "id": "4a382558",
   "metadata": {},
   "outputs": [],
   "source": [
    "n_trials_optuna = 1"
   ]
  },
  {
   "cell_type": "code",
   "execution_count": null,
   "id": "1ecf58ff",
   "metadata": {},
   "outputs": [],
   "source": [
    "def save_val_end_points(df):\n",
    "    \"\"\"\n",
    "    This function takes the last day of the dataset and take one week back as end points of the validation set \n",
    "    \"\"\"\n",
    "    val_last_day = df['date'].max()\n",
    "    val_first_day = val_last_day - pd.Timedelta(days=7)\n",
    "    print(type(val_first_day))\n",
    "    \n",
    "    val_last_day_str = val_last_day.strftime('%Y-%m-%d')\n",
    "    \n",
    "    return val_first_day, val_last_day, val_last_day_str"
   ]
  },
  {
   "cell_type": "code",
   "execution_count": 11,
   "id": "1600028a",
   "metadata": {},
   "outputs": [],
   "source": [
    "# for ad_platform in ad_platform_list:\n",
    "#     model_dict = {\n",
    "#         ad_platform: {'ensemble': [meta_data_folderpath + '\\\\' + f'{ad_platform}_ensemble_model.pkl'], 'encoders': [meta_data_folderpath + '\\\\' + f'{ad_platform}_encoders.pkl'], 'scalers': [meta_data_folderpath + '\\\\' + f'{ad_platform}_scalers.pkl']}\n",
    "#         for ad_platform in ad_platform_list\n",
    "#     }"
   ]
  }
 ],
 "metadata": {
  "kernelspec": {
   "display_name": "ad-score",
   "language": "python",
   "name": "ad-score-env"
  },
  "language_info": {
   "codemirror_mode": {
    "name": "ipython",
    "version": 3
   },
   "file_extension": ".py",
   "mimetype": "text/x-python",
   "name": "python",
   "nbconvert_exporter": "python",
   "pygments_lexer": "ipython3",
   "version": "3.10.18"
  }
 },
 "nbformat": 4,
 "nbformat_minor": 5
}
