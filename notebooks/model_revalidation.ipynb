{
 "cells": [
  {
   "cell_type": "code",
   "execution_count": 1,
   "id": "45185bbf",
   "metadata": {},
   "outputs": [],
   "source": [
    "import pandas as pd\n",
    "import numpy as np\n",
    "from sklearn.metrics import mean_squared_error, mean_absolute_error"
   ]
  },
  {
   "cell_type": "code",
   "execution_count": null,
   "id": "fd29fc49",
   "metadata": {},
   "outputs": [],
   "source": [
    "def compute_metrics_by_category(all_predictions_df, all_validation_metrics_filepath):\n",
    "    \"\"\"\n",
    "    This function re-assesses models based on the validation dataset\n",
    "    \"\"\"\n",
    "    results = []\n",
    "\n",
    "    combos = all_predictions_df[['target','category','ad_platform','model']].drop_duplicates()\n",
    "    for _, row in combos.iterrows():\n",
    "        df_sub = all_predictions_df[\n",
    "            (all_predictions_df['target']==row['target']) &\n",
    "            (all_predictions_df['category']==row['category']) &\n",
    "            (all_predictions_df['ad_platform']==row['ad_platform']) &\n",
    "            (all_predictions_df['model']==row['model'])\n",
    "        ]\n",
    "        y_true = df_sub['actual']\n",
    "        y_pred = df_sub['pred_value']\n",
    "        mse = mean_squared_error(y_true, y_pred)\n",
    "        rmse = np.sqrt(mse)\n",
    "        mae = mean_absolute_error(y_true, y_pred)\n",
    "        results.append({**row.to_dict(), 'RMSE': rmse, 'MAE': mae})\n",
    "\n",
    "    all_combo = all_predictions_df[['target','ad_platform','model']].drop_duplicates()\n",
    "    for _, row in all_combo.iterrows():\n",
    "        df_sub = all_predictions_df[\n",
    "            (all_predictions_df['target']==row['target']) &\n",
    "            (all_predictions_df['ad_platform']==row['ad_platform']) &\n",
    "            (all_predictions_df['model']==row['model'])\n",
    "        ]\n",
    "        y_true = df_sub['actual']\n",
    "        y_pred = df_sub['pred_value']\n",
    "        mse = mean_squared_error(y_true, y_pred)\n",
    "        rmse = np.sqrt(mse)\n",
    "        mae = mean_absolute_error(y_true, y_pred)\n",
    "        results.append({\n",
    "            'target': row['target'],\n",
    "            'category': 'all_categories',\n",
    "            'ad_platform': row['ad_platform'],\n",
    "            'model': row['model'],\n",
    "            'RMSE': rmse,\n",
    "            'MAE': mae\n",
    "        })\n",
    "    metrics_df = pd.DataFrame(results)\n",
    "\n",
    "    metrics_df['rank'] = metrics_df.groupby(\n",
    "        ['target','category','ad_platform']\n",
    "    )['RMSE'].rank(method='first', ascending=True)\n",
    "    \n",
    "    return metrics_df"
   ]
  }
 ],
 "metadata": {
  "kernelspec": {
   "display_name": "ad-score",
   "language": "python",
   "name": "ad-score-env"
  },
  "language_info": {
   "codemirror_mode": {
    "name": "ipython",
    "version": 3
   },
   "file_extension": ".py",
   "mimetype": "text/x-python",
   "name": "python",
   "nbconvert_exporter": "python",
   "pygments_lexer": "ipython3",
   "version": "3.10.18"
  }
 },
 "nbformat": 4,
 "nbformat_minor": 5
}
