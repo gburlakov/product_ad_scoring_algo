{
 "cells": [
  {
   "cell_type": "code",
   "execution_count": 5,
   "id": "a2c8d3c8",
   "metadata": {},
   "outputs": [],
   "source": [
    "import os\n",
    "import pandas as pd\n",
    "import numpy as np\n",
    "import datetime"
   ]
  },
  {
   "cell_type": "code",
   "execution_count": 6,
   "id": "8d455c84",
   "metadata": {},
   "outputs": [],
   "source": [
    "from sklearn.metrics import mean_squared_error, mean_absolute_error\n",
    "from scipy.stats import ttest_ind"
   ]
  },
  {
   "cell_type": "code",
   "execution_count": 7,
   "id": "beac4c70",
   "metadata": {},
   "outputs": [],
   "source": [
    "from config import input_data_xlsx_filepath, input_data_csv_filepath, date_column, date_prefix_list, trained_models_folderpath, \\\n",
    "date_column, ad_platform_list, target_dict, train_size, feature_list, model_dict, save_val_end_points, n_trials_optuna, all_predictions_csv_filepath, \\\n",
    "all_validation_metrics_filepath, all_ranked_products_filepath, all_actual_products_selected_filepath, all_pred_products_selected_filepath, all_ab_test_results_filepath\n",
    "from data_load import load_data\n",
    "from data_preprocessing import preprocess_data\n",
    "from feature_engineering import engineer_features\n",
    "from model_training import set_train_test_val_size, train_model\n",
    "from metrics_prediction import predict_metric\n",
    "from model_revalidation import compute_metrics_by_category\n",
    "from product_scoring import rank_products\n",
    "from AB_testing import ab_test_selection"
   ]
  },
  {
   "cell_type": "code",
   "execution_count": 8,
   "id": "1785fcd0",
   "metadata": {},
   "outputs": [
    {
     "name": "stdout",
     "output_type": "stream",
     "text": [
      "Preprocessing data...\n",
      "Feature engineering...\n",
      "<class 'pandas._libs.tslibs.timestamps.Timestamp'>\n",
      "Model training...\n",
      "<class 'pandas.core.frame.DataFrame'>\n",
      "Index: 23798 entries, 000d864b-c092-4160-8eda-e9efe2f6f639 to fff05380-fae8-44b2-b2ea-f62969ac5706\n",
      "Data columns (total 7 columns):\n",
      " #   Column                         Non-Null Count  Dtype         \n",
      "---  ------                         --------------  -----         \n",
      " 0   category                       23798 non-null  object        \n",
      " 1   sale_price                     23798 non-null  float64       \n",
      " 2   discount_rate                  23798 non-null  float64       \n",
      " 3   product_age                    23798 non-null  int64         \n",
      " 4   product_status                 23798 non-null  object        \n",
      " 5   pct_product_variants_in_stock  23798 non-null  float64       \n",
      " 6   date                           23798 non-null  datetime64[ns]\n",
      "dtypes: datetime64[ns](1), float64(3), int64(1), object(2)\n",
      "memory usage: 1.5+ MB\n",
      "None\n"
     ]
    },
    {
     "name": "stderr",
     "output_type": "stream",
     "text": [
      "[I 2025-06-24 10:36:30,393] A new study created in memory with name: no-name-71d90a38-832f-41e8-9b16-96d0ca555298\n"
     ]
    },
    {
     "name": "stdout",
     "output_type": "stream",
     "text": [
      "Optimizing LinearRegression...\n"
     ]
    },
    {
     "name": "stderr",
     "output_type": "stream",
     "text": [
      "[I 2025-06-24 10:36:30,647] Trial 0 finished with value: 5.73082728421788e-09 and parameters: {}. Best is trial 0 with value: 5.73082728421788e-09.\n",
      "[I 2025-06-24 10:36:30,824] A new study created in memory with name: no-name-62f628d6-5efb-479c-9934-d667fab03c3c\n"
     ]
    },
    {
     "name": "stdout",
     "output_type": "stream",
     "text": [
      "LinearRegression - Best MSE: 5.73082728421788e-09, R2: 1.0, Best Params: {}\n",
      "Optimizing DecisionTree...\n"
     ]
    },
    {
     "name": "stderr",
     "output_type": "stream",
     "text": [
      "[I 2025-06-24 10:36:31,521] Trial 0 finished with value: 1.6981569375800987e+20 and parameters: {'max_depth': 10}. Best is trial 0 with value: 1.6981569375800987e+20.\n",
      "[I 2025-06-24 10:36:32,224] A new study created in memory with name: no-name-c503a014-0276-41fc-bf19-5fa6207ec4a0\n"
     ]
    },
    {
     "name": "stdout",
     "output_type": "stream",
     "text": [
      "DecisionTree - Best MSE: 1.700314168861919e+20, R2: 0.8505718839015095, Best Params: {'max_depth': 10}\n",
      "Optimizing KNeighbors...\n"
     ]
    },
    {
     "name": "stderr",
     "output_type": "stream",
     "text": [
      "[I 2025-06-24 10:36:45,130] Trial 0 finished with value: 1.3893309484819317e+19 and parameters: {'n_neighbors': 4}. Best is trial 0 with value: 1.3893309484819317e+19.\n"
     ]
    },
    {
     "name": "stdout",
     "output_type": "stream",
     "text": [
      "KNeighbors - Best MSE: 1.3893309484819317e+19, R2: 0.9877901913616387, Best Params: {'n_neighbors': 4}\n",
      "\n",
      "Top 3 Models:\n",
      "LinearRegression: MSE = 5.73082728421788e-09, R2 = 1.0\n",
      "KNeighbors: MSE = 1.3893309484819317e+19, R2 = 0.9877901913616387\n",
      "DecisionTree: MSE = 1.700314168861919e+20, R2 = 0.8505718839015095\n",
      "\n",
      "Ensemble Weights:\n",
      "LinearRegression: 0.35231586861844916\n",
      "KNeighbors: 0.34801415928235985\n",
      "DecisionTree: 0.299669972099191\n",
      "Metrics prediction...\n",
      "Model training...\n",
      "<class 'pandas.core.frame.DataFrame'>\n",
      "Index: 23798 entries, 000d864b-c092-4160-8eda-e9efe2f6f639 to fff05380-fae8-44b2-b2ea-f62969ac5706\n",
      "Data columns (total 7 columns):\n",
      " #   Column                         Non-Null Count  Dtype         \n",
      "---  ------                         --------------  -----         \n",
      " 0   category                       23798 non-null  object        \n",
      " 1   sale_price                     23798 non-null  float64       \n",
      " 2   discount_rate                  23798 non-null  float64       \n",
      " 3   product_age                    23798 non-null  int64         \n",
      " 4   product_status                 23798 non-null  object        \n",
      " 5   pct_product_variants_in_stock  23798 non-null  float64       \n",
      " 6   date                           23798 non-null  datetime64[ns]\n",
      "dtypes: datetime64[ns](1), float64(3), int64(1), object(2)\n",
      "memory usage: 1.5+ MB\n",
      "None\n"
     ]
    },
    {
     "name": "stderr",
     "output_type": "stream",
     "text": [
      "[I 2025-06-24 10:37:25,168] A new study created in memory with name: no-name-a1e98f2d-1961-482b-899c-0b65da0abcb3\n",
      "[I 2025-06-24 10:37:25,329] Trial 0 finished with value: 8.859090715106326e+21 and parameters: {}. Best is trial 0 with value: 8.859090715106326e+21.\n"
     ]
    },
    {
     "name": "stdout",
     "output_type": "stream",
     "text": [
      "Optimizing LinearRegression...\n"
     ]
    },
    {
     "name": "stderr",
     "output_type": "stream",
     "text": [
      "[I 2025-06-24 10:37:25,550] A new study created in memory with name: no-name-27705441-9a0d-4b08-85ca-b7ede67763d9\n"
     ]
    },
    {
     "name": "stdout",
     "output_type": "stream",
     "text": [
      "LinearRegression - Best MSE: 8.859090715106326e+21, R2: 0.022229087677207215, Best Params: {}\n",
      "Optimizing DecisionTree...\n"
     ]
    },
    {
     "name": "stderr",
     "output_type": "stream",
     "text": [
      "[I 2025-06-24 10:37:26,402] Trial 0 finished with value: 9.782602005407278e+21 and parameters: {'max_depth': 10}. Best is trial 0 with value: 9.782602005407278e+21.\n",
      "[I 2025-06-24 10:37:27,160] A new study created in memory with name: no-name-9d082edc-1eb7-4475-b20a-48500a40ac4b\n"
     ]
    },
    {
     "name": "stdout",
     "output_type": "stream",
     "text": [
      "DecisionTree - Best MSE: 9.965056547700913e+21, R2: -0.09983549613949294, Best Params: {'max_depth': 10}\n",
      "Optimizing KNeighbors...\n"
     ]
    },
    {
     "name": "stderr",
     "output_type": "stream",
     "text": [
      "[I 2025-06-24 10:37:39,566] Trial 0 finished with value: 1.0220575392340912e+22 and parameters: {'n_neighbors': 4}. Best is trial 0 with value: 1.0220575392340912e+22.\n"
     ]
    },
    {
     "name": "stdout",
     "output_type": "stream",
     "text": [
      "KNeighbors - Best MSE: 1.0220575392340912e+22, R2: -0.12803691114626092, Best Params: {'n_neighbors': 4}\n",
      "\n",
      "Top 3 Models:\n",
      "LinearRegression: MSE = 8.859090715106326e+21, R2 = 0.022229087677207215\n",
      "DecisionTree: MSE = 9.965056547700913e+21, R2 = -0.09983549613949294\n",
      "KNeighbors: MSE = 1.0220575392340912e+22, R2 = -0.12803691114626092\n",
      "\n",
      "Ensemble Weights:\n",
      "LinearRegression: -0.10809535519812413\n",
      "DecisionTree: 0.485478917231716\n",
      "KNeighbors: 0.6226164379664081\n",
      "Metrics prediction...\n",
      "Model Validation...\n"
     ]
    },
    {
     "ename": "TypeError",
     "evalue": "compute_metrics_by_category() takes 1 positional argument but 2 were given",
     "output_type": "error",
     "traceback": [
      "\u001b[1;31m---------------------------------------------------------------------------\u001b[0m",
      "\u001b[1;31mTypeError\u001b[0m                                 Traceback (most recent call last)",
      "Cell \u001b[1;32mIn[8], line 36\u001b[0m\n\u001b[0;32m     33\u001b[0m all_predictions_df\u001b[38;5;241m.\u001b[39mto_csv(all_predictions_csv_filepath, index\u001b[38;5;241m=\u001b[39m\u001b[38;5;28;01mTrue\u001b[39;00m)\n\u001b[0;32m     35\u001b[0m \u001b[38;5;28mprint\u001b[39m(\u001b[38;5;124m'\u001b[39m\u001b[38;5;124mModel Validation...\u001b[39m\u001b[38;5;124m'\u001b[39m)\n\u001b[1;32m---> 36\u001b[0m metrics_df \u001b[38;5;241m=\u001b[39m \u001b[43mcompute_metrics_by_category\u001b[49m\u001b[43m(\u001b[49m\u001b[43mall_predictions_df\u001b[49m\u001b[43m,\u001b[49m\u001b[43m \u001b[49m\u001b[43mall_validation_metrics_filepath\u001b[49m\u001b[43m)\u001b[49m\n\u001b[0;32m     38\u001b[0m \u001b[38;5;28mprint\u001b[39m(\u001b[38;5;124m'\u001b[39m\u001b[38;5;124mProduct Scoring...\u001b[39m\u001b[38;5;124m'\u001b[39m)\n\u001b[0;32m     39\u001b[0m all_ranked_products_df \u001b[38;5;241m=\u001b[39m rank_products(all_predictions_df, metrics_df, all_ranked_products_filepath)\n",
      "\u001b[1;31mTypeError\u001b[0m: compute_metrics_by_category() takes 1 positional argument but 2 were given"
     ]
    }
   ],
   "source": [
    "load_data(input_data_xlsx_filepath, input_data_csv_filepath)\n",
    "input_df = pd.read_csv(input_data_csv_filepath)\n",
    "input_df.set_index('product_id', inplace=True)\n",
    "print('Preprocessing data...')\n",
    "preprocessed_df = preprocess_data(input_df, date_column)\n",
    "print('Feature engineering...')\n",
    "featured_df = engineer_features(preprocessed_df, date_column, date_prefix_list, ad_platform_list)\n",
    "val_first_day, val_last_day, val_last_day_str = save_val_end_points(featured_df.copy())\n",
    "\n",
    "dummy_columns = [col for col in featured_df.columns if any(col.startswith(prefix) for prefix in date_prefix_list)]\n",
    "features = feature_list + dummy_columns\n",
    "\n",
    "predictions_df_list = []\n",
    "for ad_platform in ad_platform_list:\n",
    "    for target in target_dict[ad_platform]:            \n",
    "        print('Model training...')\n",
    "        orig_X_val, orig_y_val = set_train_test_val_size(featured_df, val_first_day, val_last_day, train_size, target, features, \n",
    "                                                         date_column, date_prefix_list, \n",
    "                                                         dummy_columns, encoding=False)        \n",
    "        X_train, X_test, X_val, y_train, y_test, y_val, encoders, scalers = set_train_test_val_size(featured_df, val_first_day, \n",
    "                                                                                                    val_last_day, train_size, \n",
    "                                                                                                    target, features, \n",
    "                                                                                                    date_column, date_prefix_list, \n",
    "                                                                                                    dummy_columns, encoding=True)\n",
    "        train_model(featured_df, ad_platform, target, features, val_last_day_str, \n",
    "                    trained_models_folderpath, X_train, X_test, y_train, y_test, X_val, y_val, encoders, scalers, model_dict, \n",
    "                    n_trials_optuna)\n",
    "        print('Metrics prediction...')\n",
    "        prediction_df = predict_metric(trained_models_folderpath, val_last_day_str, X_val, y_val, orig_X_val, target, ad_platform, model_dict)\n",
    "        predictions_df_list.append(prediction_df)\n",
    "\n",
    "all_predictions_df = pd.concat(predictions_df_list)\n",
    "all_predictions_df.to_csv(all_predictions_csv_filepath, index=True)\n",
    "\n",
    "print('Model Validation...')\n",
    "metrics_df = compute_metrics_by_category(all_predictions_df, all_validation_metrics_filepath)\n",
    "\n",
    "print('Product Scoring...')\n",
    "all_ranked_products_df = rank_products(all_predictions_df, metrics_df, all_ranked_products_filepath)\n",
    "\n",
    "print('AB testing')\n",
    "all_actual_products_selected_df, all_pred_products_selected_df, all_ab_test_results_df = ab_test_selection(all_ranked_products_df, all_predictions_df,\\\n",
    "                                                                                                           all_actual_products_selected_filepath, \\\n",
    "                                                                                                           all_pred_products_selected_filepath, \\\n",
    "                                                                                                           all_ab_test_results_filepath)"
   ]
  },
  {
   "cell_type": "code",
   "execution_count": null,
   "id": "eabc335d",
   "metadata": {},
   "outputs": [],
   "source": [
    "# metrics_df = compute_metrics_by_category(all_predictions_df, all_validation_metrics_filepath)"
   ]
  },
  {
   "cell_type": "code",
   "execution_count": null,
   "id": "ba033acd",
   "metadata": {},
   "outputs": [],
   "source": [
    "# metrics_df"
   ]
  },
  {
   "cell_type": "code",
   "execution_count": null,
   "id": "c5d1184a",
   "metadata": {},
   "outputs": [],
   "source": [
    "# all_ranked_products_df = rank_products(all_predictions_df, metrics_df, all_ranked_products_filepath)"
   ]
  },
  {
   "cell_type": "code",
   "execution_count": null,
   "id": "6da0d09c",
   "metadata": {},
   "outputs": [],
   "source": [
    "# all_actual_products_selected_df, all_pred_products_selected_df, all_ab_test_results_df = ab_test_selection(all_ranked_products_df, all_predictions_df,\\\n",
    "#                                                                                                            all_actual_products_selected_filepath, \\\n",
    "#                                                                                                            all_pred_products_selected_filepath, \\\n",
    "#                                                                                                            all_ab_test_results_filepath)"
   ]
  }
 ],
 "metadata": {
  "kernelspec": {
   "display_name": "ad-score",
   "language": "python",
   "name": "ad-score-env"
  },
  "language_info": {
   "codemirror_mode": {
    "name": "ipython",
    "version": 3
   },
   "file_extension": ".py",
   "mimetype": "text/x-python",
   "name": "python",
   "nbconvert_exporter": "python",
   "pygments_lexer": "ipython3",
   "version": "3.10.18"
  }
 },
 "nbformat": 4,
 "nbformat_minor": 5
}
